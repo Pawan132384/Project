{
 "cells": [
  {
   "cell_type": "code",
   "execution_count": 10,
   "id": "ca0253a2-2c08-4439-957d-fb96281743e8",
   "metadata": {},
   "outputs": [],
   "source": [
    "import pandas as pd\n",
    "from sklearn.linear_model import LinearRegression\n",
    "from sklearn.tree import DecisionTreeRegressor\n",
    "from sklearn.ensemble import  RandomForestRegressor\n",
    "from sklearn.model_selection import train_test_split\n",
    "from sklearn.preprocessing import LabelEncoder"
   ]
  },
  {
   "cell_type": "code",
   "execution_count": 11,
   "id": "bb9047d6-29a8-40ec-8256-4135eb2d899e",
   "metadata": {},
   "outputs": [],
   "source": [
    "data = pd.read_excel('C:\\\\Users\\\\Pawan\\\\Downloads\\\\house_prices.xlsx')"
   ]
  },
  {
   "cell_type": "code",
   "execution_count": 12,
   "id": "3246ff40-8a31-4d2e-b5e7-5ce02ba65a85",
   "metadata": {},
   "outputs": [
    {
     "data": {
      "text/html": [
       "<div>\n",
       "<style scoped>\n",
       "    .dataframe tbody tr th:only-of-type {\n",
       "        vertical-align: middle;\n",
       "    }\n",
       "\n",
       "    .dataframe tbody tr th {\n",
       "        vertical-align: top;\n",
       "    }\n",
       "\n",
       "    .dataframe thead th {\n",
       "        text-align: right;\n",
       "    }\n",
       "</style>\n",
       "<table border=\"1\" class=\"dataframe\">\n",
       "  <thead>\n",
       "    <tr style=\"text-align: right;\">\n",
       "      <th></th>\n",
       "      <th>House Size (sqft)</th>\n",
       "      <th>Number of Bedrooms</th>\n",
       "      <th>Location (Zip Code)</th>\n",
       "      <th>Age of House</th>\n",
       "      <th>Garage Size (sqft)</th>\n",
       "      <th>Price (USD)</th>\n",
       "    </tr>\n",
       "  </thead>\n",
       "  <tbody>\n",
       "    <tr>\n",
       "      <th>0</th>\n",
       "      <td>3125</td>\n",
       "      <td>3</td>\n",
       "      <td>30003</td>\n",
       "      <td>11</td>\n",
       "      <td>482</td>\n",
       "      <td>116326</td>\n",
       "    </tr>\n",
       "    <tr>\n",
       "      <th>1</th>\n",
       "      <td>1803</td>\n",
       "      <td>5</td>\n",
       "      <td>20002</td>\n",
       "      <td>13</td>\n",
       "      <td>126</td>\n",
       "      <td>198940</td>\n",
       "    </tr>\n",
       "    <tr>\n",
       "      <th>2</th>\n",
       "      <td>888</td>\n",
       "      <td>5</td>\n",
       "      <td>30003</td>\n",
       "      <td>9</td>\n",
       "      <td>482</td>\n",
       "      <td>126483</td>\n",
       "    </tr>\n",
       "    <tr>\n",
       "      <th>3</th>\n",
       "      <td>1549</td>\n",
       "      <td>5</td>\n",
       "      <td>30003</td>\n",
       "      <td>23</td>\n",
       "      <td>380</td>\n",
       "      <td>424113</td>\n",
       "    </tr>\n",
       "    <tr>\n",
       "      <th>4</th>\n",
       "      <td>1783</td>\n",
       "      <td>4</td>\n",
       "      <td>30003</td>\n",
       "      <td>32</td>\n",
       "      <td>358</td>\n",
       "      <td>159629</td>\n",
       "    </tr>\n",
       "    <tr>\n",
       "      <th>...</th>\n",
       "      <td>...</td>\n",
       "      <td>...</td>\n",
       "      <td>...</td>\n",
       "      <td>...</td>\n",
       "      <td>...</td>\n",
       "      <td>...</td>\n",
       "    </tr>\n",
       "    <tr>\n",
       "      <th>95</th>\n",
       "      <td>2220</td>\n",
       "      <td>1</td>\n",
       "      <td>30003</td>\n",
       "      <td>13</td>\n",
       "      <td>227</td>\n",
       "      <td>231269</td>\n",
       "    </tr>\n",
       "    <tr>\n",
       "      <th>96</th>\n",
       "      <td>934</td>\n",
       "      <td>5</td>\n",
       "      <td>40004</td>\n",
       "      <td>27</td>\n",
       "      <td>256</td>\n",
       "      <td>472283</td>\n",
       "    </tr>\n",
       "    <tr>\n",
       "      <th>97</th>\n",
       "      <td>1140</td>\n",
       "      <td>1</td>\n",
       "      <td>30003</td>\n",
       "      <td>28</td>\n",
       "      <td>227</td>\n",
       "      <td>459758</td>\n",
       "    </tr>\n",
       "    <tr>\n",
       "      <th>98</th>\n",
       "      <td>3455</td>\n",
       "      <td>1</td>\n",
       "      <td>20002</td>\n",
       "      <td>22</td>\n",
       "      <td>310</td>\n",
       "      <td>185838</td>\n",
       "    </tr>\n",
       "    <tr>\n",
       "      <th>99</th>\n",
       "      <td>3669</td>\n",
       "      <td>5</td>\n",
       "      <td>20002</td>\n",
       "      <td>6</td>\n",
       "      <td>445</td>\n",
       "      <td>198405</td>\n",
       "    </tr>\n",
       "  </tbody>\n",
       "</table>\n",
       "<p>100 rows × 6 columns</p>\n",
       "</div>"
      ],
      "text/plain": [
       "    House Size (sqft)  Number of Bedrooms  Location (Zip Code)  Age of House  \\\n",
       "0                3125                   3                30003            11   \n",
       "1                1803                   5                20002            13   \n",
       "2                 888                   5                30003             9   \n",
       "3                1549                   5                30003            23   \n",
       "4                1783                   4                30003            32   \n",
       "..                ...                 ...                  ...           ...   \n",
       "95               2220                   1                30003            13   \n",
       "96                934                   5                40004            27   \n",
       "97               1140                   1                30003            28   \n",
       "98               3455                   1                20002            22   \n",
       "99               3669                   5                20002             6   \n",
       "\n",
       "    Garage Size (sqft)  Price (USD)  \n",
       "0                  482       116326  \n",
       "1                  126       198940  \n",
       "2                  482       126483  \n",
       "3                  380       424113  \n",
       "4                  358       159629  \n",
       "..                 ...          ...  \n",
       "95                 227       231269  \n",
       "96                 256       472283  \n",
       "97                 227       459758  \n",
       "98                 310       185838  \n",
       "99                 445       198405  \n",
       "\n",
       "[100 rows x 6 columns]"
      ]
     },
     "execution_count": 12,
     "metadata": {},
     "output_type": "execute_result"
    }
   ],
   "source": [
    "data"
   ]
  },
  {
   "cell_type": "code",
   "execution_count": 13,
   "id": "081f5fc7-cf2e-47b8-85ef-014121635baa",
   "metadata": {},
   "outputs": [
    {
     "name": "stdout",
     "output_type": "stream",
     "text": [
      "<class 'pandas.core.frame.DataFrame'>\n",
      "RangeIndex: 100 entries, 0 to 99\n",
      "Data columns (total 6 columns):\n",
      " #   Column               Non-Null Count  Dtype\n",
      "---  ------               --------------  -----\n",
      " 0   House Size (sqft)    100 non-null    int64\n",
      " 1   Number of Bedrooms   100 non-null    int64\n",
      " 2   Location (Zip Code)  100 non-null    int64\n",
      " 3   Age of House         100 non-null    int64\n",
      " 4   Garage Size (sqft)   100 non-null    int64\n",
      " 5   Price (USD)          100 non-null    int64\n",
      "dtypes: int64(6)\n",
      "memory usage: 4.8 KB\n"
     ]
    }
   ],
   "source": [
    "data.info()"
   ]
  },
  {
   "cell_type": "code",
   "execution_count": 19,
   "id": "c06b3e82-547c-425e-8c6f-7d0f457d6358",
   "metadata": {},
   "outputs": [
    {
     "data": {
      "text/html": [
       "<div>\n",
       "<style scoped>\n",
       "    .dataframe tbody tr th:only-of-type {\n",
       "        vertical-align: middle;\n",
       "    }\n",
       "\n",
       "    .dataframe tbody tr th {\n",
       "        vertical-align: top;\n",
       "    }\n",
       "\n",
       "    .dataframe thead th {\n",
       "        text-align: right;\n",
       "    }\n",
       "</style>\n",
       "<table border=\"1\" class=\"dataframe\">\n",
       "  <thead>\n",
       "    <tr style=\"text-align: right;\">\n",
       "      <th></th>\n",
       "      <th>House Size (sqft)</th>\n",
       "      <th>Number of Bedrooms</th>\n",
       "      <th>Location (Zip Code)</th>\n",
       "      <th>Age of House</th>\n",
       "      <th>Garage Size (sqft)</th>\n",
       "      <th>Price (USD)</th>\n",
       "    </tr>\n",
       "  </thead>\n",
       "  <tbody>\n",
       "    <tr>\n",
       "      <th>0</th>\n",
       "      <td>False</td>\n",
       "      <td>False</td>\n",
       "      <td>False</td>\n",
       "      <td>False</td>\n",
       "      <td>False</td>\n",
       "      <td>False</td>\n",
       "    </tr>\n",
       "    <tr>\n",
       "      <th>1</th>\n",
       "      <td>False</td>\n",
       "      <td>False</td>\n",
       "      <td>False</td>\n",
       "      <td>False</td>\n",
       "      <td>False</td>\n",
       "      <td>False</td>\n",
       "    </tr>\n",
       "    <tr>\n",
       "      <th>2</th>\n",
       "      <td>False</td>\n",
       "      <td>False</td>\n",
       "      <td>False</td>\n",
       "      <td>False</td>\n",
       "      <td>False</td>\n",
       "      <td>False</td>\n",
       "    </tr>\n",
       "    <tr>\n",
       "      <th>3</th>\n",
       "      <td>False</td>\n",
       "      <td>False</td>\n",
       "      <td>False</td>\n",
       "      <td>False</td>\n",
       "      <td>False</td>\n",
       "      <td>False</td>\n",
       "    </tr>\n",
       "    <tr>\n",
       "      <th>4</th>\n",
       "      <td>False</td>\n",
       "      <td>False</td>\n",
       "      <td>False</td>\n",
       "      <td>False</td>\n",
       "      <td>False</td>\n",
       "      <td>False</td>\n",
       "    </tr>\n",
       "    <tr>\n",
       "      <th>...</th>\n",
       "      <td>...</td>\n",
       "      <td>...</td>\n",
       "      <td>...</td>\n",
       "      <td>...</td>\n",
       "      <td>...</td>\n",
       "      <td>...</td>\n",
       "    </tr>\n",
       "    <tr>\n",
       "      <th>95</th>\n",
       "      <td>False</td>\n",
       "      <td>False</td>\n",
       "      <td>False</td>\n",
       "      <td>False</td>\n",
       "      <td>False</td>\n",
       "      <td>False</td>\n",
       "    </tr>\n",
       "    <tr>\n",
       "      <th>96</th>\n",
       "      <td>False</td>\n",
       "      <td>False</td>\n",
       "      <td>False</td>\n",
       "      <td>False</td>\n",
       "      <td>False</td>\n",
       "      <td>False</td>\n",
       "    </tr>\n",
       "    <tr>\n",
       "      <th>97</th>\n",
       "      <td>False</td>\n",
       "      <td>False</td>\n",
       "      <td>False</td>\n",
       "      <td>False</td>\n",
       "      <td>False</td>\n",
       "      <td>False</td>\n",
       "    </tr>\n",
       "    <tr>\n",
       "      <th>98</th>\n",
       "      <td>False</td>\n",
       "      <td>False</td>\n",
       "      <td>False</td>\n",
       "      <td>False</td>\n",
       "      <td>False</td>\n",
       "      <td>False</td>\n",
       "    </tr>\n",
       "    <tr>\n",
       "      <th>99</th>\n",
       "      <td>False</td>\n",
       "      <td>False</td>\n",
       "      <td>False</td>\n",
       "      <td>False</td>\n",
       "      <td>False</td>\n",
       "      <td>False</td>\n",
       "    </tr>\n",
       "  </tbody>\n",
       "</table>\n",
       "<p>100 rows × 6 columns</p>\n",
       "</div>"
      ],
      "text/plain": [
       "    House Size (sqft)  Number of Bedrooms  Location (Zip Code)  Age of House  \\\n",
       "0               False               False                False         False   \n",
       "1               False               False                False         False   \n",
       "2               False               False                False         False   \n",
       "3               False               False                False         False   \n",
       "4               False               False                False         False   \n",
       "..                ...                 ...                  ...           ...   \n",
       "95              False               False                False         False   \n",
       "96              False               False                False         False   \n",
       "97              False               False                False         False   \n",
       "98              False               False                False         False   \n",
       "99              False               False                False         False   \n",
       "\n",
       "    Garage Size (sqft)  Price (USD)  \n",
       "0                False        False  \n",
       "1                False        False  \n",
       "2                False        False  \n",
       "3                False        False  \n",
       "4                False        False  \n",
       "..                 ...          ...  \n",
       "95               False        False  \n",
       "96               False        False  \n",
       "97               False        False  \n",
       "98               False        False  \n",
       "99               False        False  \n",
       "\n",
       "[100 rows x 6 columns]"
      ]
     },
     "execution_count": 19,
     "metadata": {},
     "output_type": "execute_result"
    }
   ],
   "source": [
    "data.isnull()"
   ]
  },
  {
   "cell_type": "code",
   "execution_count": 20,
   "id": "1866b3ee-5af5-4bda-8198-1369a68e975d",
   "metadata": {},
   "outputs": [
    {
     "data": {
      "text/html": [
       "<div>\n",
       "<style scoped>\n",
       "    .dataframe tbody tr th:only-of-type {\n",
       "        vertical-align: middle;\n",
       "    }\n",
       "\n",
       "    .dataframe tbody tr th {\n",
       "        vertical-align: top;\n",
       "    }\n",
       "\n",
       "    .dataframe thead th {\n",
       "        text-align: right;\n",
       "    }\n",
       "</style>\n",
       "<table border=\"1\" class=\"dataframe\">\n",
       "  <thead>\n",
       "    <tr style=\"text-align: right;\">\n",
       "      <th></th>\n",
       "      <th>House Size (sqft)</th>\n",
       "      <th>Number of Bedrooms</th>\n",
       "      <th>Location (Zip Code)</th>\n",
       "      <th>Age of House</th>\n",
       "      <th>Garage Size (sqft)</th>\n",
       "      <th>Price (USD)</th>\n",
       "    </tr>\n",
       "  </thead>\n",
       "  <tbody>\n",
       "    <tr>\n",
       "      <th>House Size (sqft)</th>\n",
       "      <td>1.000000</td>\n",
       "      <td>0.050933</td>\n",
       "      <td>-0.181154</td>\n",
       "      <td>0.070513</td>\n",
       "      <td>0.176410</td>\n",
       "      <td>-0.023813</td>\n",
       "    </tr>\n",
       "    <tr>\n",
       "      <th>Number of Bedrooms</th>\n",
       "      <td>0.050933</td>\n",
       "      <td>1.000000</td>\n",
       "      <td>0.087813</td>\n",
       "      <td>0.072711</td>\n",
       "      <td>0.106791</td>\n",
       "      <td>0.061863</td>\n",
       "    </tr>\n",
       "    <tr>\n",
       "      <th>Location (Zip Code)</th>\n",
       "      <td>-0.181154</td>\n",
       "      <td>0.087813</td>\n",
       "      <td>1.000000</td>\n",
       "      <td>0.135248</td>\n",
       "      <td>0.062682</td>\n",
       "      <td>0.060121</td>\n",
       "    </tr>\n",
       "    <tr>\n",
       "      <th>Age of House</th>\n",
       "      <td>0.070513</td>\n",
       "      <td>0.072711</td>\n",
       "      <td>0.135248</td>\n",
       "      <td>1.000000</td>\n",
       "      <td>0.000445</td>\n",
       "      <td>0.047120</td>\n",
       "    </tr>\n",
       "    <tr>\n",
       "      <th>Garage Size (sqft)</th>\n",
       "      <td>0.176410</td>\n",
       "      <td>0.106791</td>\n",
       "      <td>0.062682</td>\n",
       "      <td>0.000445</td>\n",
       "      <td>1.000000</td>\n",
       "      <td>-0.031031</td>\n",
       "    </tr>\n",
       "    <tr>\n",
       "      <th>Price (USD)</th>\n",
       "      <td>-0.023813</td>\n",
       "      <td>0.061863</td>\n",
       "      <td>0.060121</td>\n",
       "      <td>0.047120</td>\n",
       "      <td>-0.031031</td>\n",
       "      <td>1.000000</td>\n",
       "    </tr>\n",
       "  </tbody>\n",
       "</table>\n",
       "</div>"
      ],
      "text/plain": [
       "                     House Size (sqft)  Number of Bedrooms  \\\n",
       "House Size (sqft)             1.000000            0.050933   \n",
       "Number of Bedrooms            0.050933            1.000000   \n",
       "Location (Zip Code)          -0.181154            0.087813   \n",
       "Age of House                  0.070513            0.072711   \n",
       "Garage Size (sqft)            0.176410            0.106791   \n",
       "Price (USD)                  -0.023813            0.061863   \n",
       "\n",
       "                     Location (Zip Code)  Age of House  Garage Size (sqft)  \\\n",
       "House Size (sqft)              -0.181154      0.070513            0.176410   \n",
       "Number of Bedrooms              0.087813      0.072711            0.106791   \n",
       "Location (Zip Code)             1.000000      0.135248            0.062682   \n",
       "Age of House                    0.135248      1.000000            0.000445   \n",
       "Garage Size (sqft)              0.062682      0.000445            1.000000   \n",
       "Price (USD)                     0.060121      0.047120           -0.031031   \n",
       "\n",
       "                     Price (USD)  \n",
       "House Size (sqft)      -0.023813  \n",
       "Number of Bedrooms      0.061863  \n",
       "Location (Zip Code)     0.060121  \n",
       "Age of House            0.047120  \n",
       "Garage Size (sqft)     -0.031031  \n",
       "Price (USD)             1.000000  "
      ]
     },
     "execution_count": 20,
     "metadata": {},
     "output_type": "execute_result"
    }
   ],
   "source": [
    "corr_matrix = data.corr()\n",
    "corr_matrix"
   ]
  },
  {
   "cell_type": "code",
   "execution_count": 21,
   "id": "ed62eeeb-5b61-4edc-ae4a-34d58eb77caa",
   "metadata": {},
   "outputs": [
    {
     "name": "stdout",
     "output_type": "stream",
     "text": [
      "    House Size (sqft)  Number of Bedrooms  Location (Zip Code)  Age of House  \\\n",
      "0                3125                   3                30003            11   \n",
      "1                1803                   5                20002            13   \n",
      "2                 888                   5                30003             9   \n",
      "3                1549                   5                30003            23   \n",
      "4                1783                   4                30003            32   \n",
      "..                ...                 ...                  ...           ...   \n",
      "95               2220                   1                30003            13   \n",
      "96                934                   5                40004            27   \n",
      "97               1140                   1                30003            28   \n",
      "98               3455                   1                20002            22   \n",
      "99               3669                   5                20002             6   \n",
      "\n",
      "    Garage Size (sqft)  \n",
      "0                  482  \n",
      "1                  126  \n",
      "2                  482  \n",
      "3                  380  \n",
      "4                  358  \n",
      "..                 ...  \n",
      "95                 227  \n",
      "96                 256  \n",
      "97                 227  \n",
      "98                 310  \n",
      "99                 445  \n",
      "\n",
      "[100 rows x 5 columns]\n",
      "0     116326\n",
      "1     198940\n",
      "2     126483\n",
      "3     424113\n",
      "4     159629\n",
      "       ...  \n",
      "95    231269\n",
      "96    472283\n",
      "97    459758\n",
      "98    185838\n",
      "99    198405\n",
      "Name: Price (USD), Length: 100, dtype: int64\n"
     ]
    }
   ],
   "source": [
    "x = data.iloc[:, :-1]\n",
    "y = data.iloc[:, -1]\n",
    "\n",
    "print(x)\n",
    "print(y)"
   ]
  },
  {
   "cell_type": "code",
   "execution_count": 22,
   "id": "56278735-eaed-4da6-a558-c57622dd16a0",
   "metadata": {},
   "outputs": [],
   "source": [
    "x_train, x_test, y_train, y_test = train_test_split(x, y, test_size = 0.3, random_state=42)"
   ]
  },
  {
   "cell_type": "code",
   "execution_count": 23,
   "id": "35e97873-986e-493e-bdc9-27986d09438c",
   "metadata": {},
   "outputs": [],
   "source": [
    "lr_model = LinearRegression()\n",
    "dt_model = DecisionTreeRegressor()\n",
    "rf_model = RandomForestRegressor()"
   ]
  },
  {
   "cell_type": "code",
   "execution_count": 24,
   "id": "67c1b4e1-4b81-4bc5-8e90-1d18224e66b3",
   "metadata": {},
   "outputs": [
    {
     "data": {
      "text/html": [
       "<style>#sk-container-id-1 {color: black;background-color: white;}#sk-container-id-1 pre{padding: 0;}#sk-container-id-1 div.sk-toggleable {background-color: white;}#sk-container-id-1 label.sk-toggleable__label {cursor: pointer;display: block;width: 100%;margin-bottom: 0;padding: 0.3em;box-sizing: border-box;text-align: center;}#sk-container-id-1 label.sk-toggleable__label-arrow:before {content: \"▸\";float: left;margin-right: 0.25em;color: #696969;}#sk-container-id-1 label.sk-toggleable__label-arrow:hover:before {color: black;}#sk-container-id-1 div.sk-estimator:hover label.sk-toggleable__label-arrow:before {color: black;}#sk-container-id-1 div.sk-toggleable__content {max-height: 0;max-width: 0;overflow: hidden;text-align: left;background-color: #f0f8ff;}#sk-container-id-1 div.sk-toggleable__content pre {margin: 0.2em;color: black;border-radius: 0.25em;background-color: #f0f8ff;}#sk-container-id-1 input.sk-toggleable__control:checked~div.sk-toggleable__content {max-height: 200px;max-width: 100%;overflow: auto;}#sk-container-id-1 input.sk-toggleable__control:checked~label.sk-toggleable__label-arrow:before {content: \"▾\";}#sk-container-id-1 div.sk-estimator input.sk-toggleable__control:checked~label.sk-toggleable__label {background-color: #d4ebff;}#sk-container-id-1 div.sk-label input.sk-toggleable__control:checked~label.sk-toggleable__label {background-color: #d4ebff;}#sk-container-id-1 input.sk-hidden--visually {border: 0;clip: rect(1px 1px 1px 1px);clip: rect(1px, 1px, 1px, 1px);height: 1px;margin: -1px;overflow: hidden;padding: 0;position: absolute;width: 1px;}#sk-container-id-1 div.sk-estimator {font-family: monospace;background-color: #f0f8ff;border: 1px dotted black;border-radius: 0.25em;box-sizing: border-box;margin-bottom: 0.5em;}#sk-container-id-1 div.sk-estimator:hover {background-color: #d4ebff;}#sk-container-id-1 div.sk-parallel-item::after {content: \"\";width: 100%;border-bottom: 1px solid gray;flex-grow: 1;}#sk-container-id-1 div.sk-label:hover label.sk-toggleable__label {background-color: #d4ebff;}#sk-container-id-1 div.sk-serial::before {content: \"\";position: absolute;border-left: 1px solid gray;box-sizing: border-box;top: 0;bottom: 0;left: 50%;z-index: 0;}#sk-container-id-1 div.sk-serial {display: flex;flex-direction: column;align-items: center;background-color: white;padding-right: 0.2em;padding-left: 0.2em;position: relative;}#sk-container-id-1 div.sk-item {position: relative;z-index: 1;}#sk-container-id-1 div.sk-parallel {display: flex;align-items: stretch;justify-content: center;background-color: white;position: relative;}#sk-container-id-1 div.sk-item::before, #sk-container-id-1 div.sk-parallel-item::before {content: \"\";position: absolute;border-left: 1px solid gray;box-sizing: border-box;top: 0;bottom: 0;left: 50%;z-index: -1;}#sk-container-id-1 div.sk-parallel-item {display: flex;flex-direction: column;z-index: 1;position: relative;background-color: white;}#sk-container-id-1 div.sk-parallel-item:first-child::after {align-self: flex-end;width: 50%;}#sk-container-id-1 div.sk-parallel-item:last-child::after {align-self: flex-start;width: 50%;}#sk-container-id-1 div.sk-parallel-item:only-child::after {width: 0;}#sk-container-id-1 div.sk-dashed-wrapped {border: 1px dashed gray;margin: 0 0.4em 0.5em 0.4em;box-sizing: border-box;padding-bottom: 0.4em;background-color: white;}#sk-container-id-1 div.sk-label label {font-family: monospace;font-weight: bold;display: inline-block;line-height: 1.2em;}#sk-container-id-1 div.sk-label-container {text-align: center;}#sk-container-id-1 div.sk-container {/* jupyter's `normalize.less` sets `[hidden] { display: none; }` but bootstrap.min.css set `[hidden] { display: none !important; }` so we also need the `!important` here to be able to override the default hidden behavior on the sphinx rendered scikit-learn.org. See: https://github.com/scikit-learn/scikit-learn/issues/21755 */display: inline-block !important;position: relative;}#sk-container-id-1 div.sk-text-repr-fallback {display: none;}</style><div id=\"sk-container-id-1\" class=\"sk-top-container\"><div class=\"sk-text-repr-fallback\"><pre>RandomForestRegressor()</pre><b>In a Jupyter environment, please rerun this cell to show the HTML representation or trust the notebook. <br />On GitHub, the HTML representation is unable to render, please try loading this page with nbviewer.org.</b></div><div class=\"sk-container\" hidden><div class=\"sk-item\"><div class=\"sk-estimator sk-toggleable\"><input class=\"sk-toggleable__control sk-hidden--visually\" id=\"sk-estimator-id-1\" type=\"checkbox\" checked><label for=\"sk-estimator-id-1\" class=\"sk-toggleable__label sk-toggleable__label-arrow\">RandomForestRegressor</label><div class=\"sk-toggleable__content\"><pre>RandomForestRegressor()</pre></div></div></div></div></div>"
      ],
      "text/plain": [
       "RandomForestRegressor()"
      ]
     },
     "execution_count": 24,
     "metadata": {},
     "output_type": "execute_result"
    }
   ],
   "source": [
    "lr_model.fit(x_train, y_train)\n",
    "dt_model.fit(x_train, y_train)\n",
    "rf_model.fit(x_train, y_train)"
   ]
  },
  {
   "cell_type": "code",
   "execution_count": 25,
   "id": "6054fe04-9ae1-42ab-b79f-060efe43c9de",
   "metadata": {},
   "outputs": [],
   "source": [
    "lr_pred = lr_model.predict(x_test)\n",
    "dt_pred = dt_model.predict(x_test)\n",
    "rf_pred = rf_model.predict(x_test)"
   ]
  },
  {
   "cell_type": "code",
   "execution_count": 26,
   "id": "dd91c81a-cbd4-404b-8ad1-05f21419e291",
   "metadata": {},
   "outputs": [
    {
     "name": "stdout",
     "output_type": "stream",
     "text": [
      "[311912.67633806 296925.43174519 303970.80613114 309773.31466089\n",
      " 291706.97309855 316996.58801913 285957.88541373 311377.61101785\n",
      " 318743.35350143 300999.10135537 346551.49833123 323224.26012037\n",
      " 311675.35958501 318597.98793941 275600.16643827 320341.3480804\n",
      " 298562.37986524 320775.55375887 327253.5636729  298226.74732971\n",
      " 300241.91289733 334976.17092317 322054.92365088 323538.62212203\n",
      " 301304.06865165 270719.46016409 274337.45906834 316262.18800649\n",
      " 333412.28490652 304071.05253722]\n"
     ]
    }
   ],
   "source": [
    "print(lr_pred)"
   ]
  },
  {
   "cell_type": "code",
   "execution_count": 27,
   "id": "7b186a83-8d2a-4973-83d0-e152bed3f1a8",
   "metadata": {},
   "outputs": [
    {
     "name": "stdout",
     "output_type": "stream",
     "text": [
      "[158874. 185838. 137560. 304906. 202275. 126483. 475894. 159577. 183721.\n",
      " 235751. 442740. 408762. 408280. 217659. 317054. 317447. 198405. 491128.\n",
      " 408280. 304906. 198940. 308774. 326286. 158874. 235751. 231269. 459599.\n",
      " 170171. 308774. 198940.]\n"
     ]
    }
   ],
   "source": [
    "print(dt_pred)"
   ]
  },
  {
   "cell_type": "code",
   "execution_count": 28,
   "id": "8072b791-6793-4e04-8b26-870a27d4bf85",
   "metadata": {},
   "outputs": [
    {
     "name": "stdout",
     "output_type": "stream",
     "text": [
      "[282528.61 224915.4  298044.96 275231.68 300004.63 295467.96 393499.87\n",
      " 332918.1  311202.52 287443.92 360074.9  345223.86 314110.57 272422.51\n",
      " 326997.98 343263.75 318819.3  357383.04 355467.99 294718.8  303603.22\n",
      " 331396.74 322254.22 301519.85 297628.54 288272.95 278007.18 260292.36\n",
      " 290654.76 314453.63]\n"
     ]
    }
   ],
   "source": [
    "print(rf_pred)"
   ]
  },
  {
   "cell_type": "code",
   "execution_count": 29,
   "id": "bc0127e1-1618-4d14-baff-d561ceb95e87",
   "metadata": {},
   "outputs": [],
   "source": [
    "from sklearn.metrics import mean_squared_error\n",
    "from sklearn.metrics import r2_score\n",
    "\n",
    "#from sklearn.metrics import mean_squared_error\n",
    "#from sklearn.metrics import r2_score"
   ]
  },
  {
   "cell_type": "code",
   "execution_count": 32,
   "id": "c674a810-0260-4d3b-9a6e-485316e66583",
   "metadata": {},
   "outputs": [
    {
     "name": "stdout",
     "output_type": "stream",
     "text": [
      "linearRegression 17260123291.175007\n",
      "DecisionTreeRegression 31616869567.866665\n",
      "RandomForestRegression 18756137208.518833\n"
     ]
    }
   ],
   "source": [
    "print(\"linearRegression\",mean_squared_error(y_test, lr_pred))\n",
    "print(\"DecisionTreeRegression\", mean_squared_error(y_test, dt_pred))\n",
    "print(\"RandomForestRegression\", mean_squared_error(y_test, rf_pred))"
   ]
  },
  {
   "cell_type": "code",
   "execution_count": 34,
   "id": "cc25096c-f6c6-4943-94c9-3802573c9f8b",
   "metadata": {},
   "outputs": [
    {
     "name": "stdout",
     "output_type": "stream",
     "text": [
      "linearRegression -0.2380825928093946\n",
      "DecisionTreeRegression -1.2679036059444049\n",
      "RandomForestRegression -0.3453928801357309\n"
     ]
    }
   ],
   "source": [
    "print(\"linearRegression\",r2_score(y_test, lr_pred))\n",
    "print(\"DecisionTreeRegression\",r2_score(y_test, dt_pred))\n",
    "print(\"RandomForestRegression\",r2_score(y_test, rf_pred))"
   ]
  },
  {
   "cell_type": "code",
   "execution_count": null,
   "id": "d46d0463-f45e-42e7-96f4-8c39772514bf",
   "metadata": {},
   "outputs": [],
   "source": []
  }
 ],
 "metadata": {
  "kernelspec": {
   "display_name": "Python 3 (ipykernel)",
   "language": "python",
   "name": "python3"
  },
  "language_info": {
   "codemirror_mode": {
    "name": "ipython",
    "version": 3
   },
   "file_extension": ".py",
   "mimetype": "text/x-python",
   "name": "python",
   "nbconvert_exporter": "python",
   "pygments_lexer": "ipython3",
   "version": "3.11.7"
  }
 },
 "nbformat": 4,
 "nbformat_minor": 5
}
